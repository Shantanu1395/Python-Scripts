{
 "cells": [
  {
   "cell_type": "markdown",
   "metadata": {},
   "source": [
    "### Contents\n",
    "### 1.Multithreading vs Multiprocessing\n",
    "### 2.Multithreading\n",
    "### 3.Multiprocessing\n",
    "### 4.GIL"
   ]
  },
  {
   "cell_type": "markdown",
   "metadata": {},
   "source": [
    "--------------------------------------------------------------------------------"
   ]
  },
  {
   "cell_type": "markdown",
   "metadata": {},
   "source": [
    "## Multithreading\n",
    "\n",
    "----------------------------------------------------------\n",
    "----------------------------------------------------------\n",
    "Multiple threads live in the same process in the same space, each thread will do a specific task, have its own code, own stack memory, instruction pointer, and <font color=red>share heap memory</font>. If a thread has a memory leak it can damage the other threads and parent process.\n",
    "\n",
    "\n",
    "-----------------------------------------------------------\n",
    "\n",
    "### Overall Structure\n",
    "\n",
    "import threading\n",
    "\n",
    "t1 = threading.Thread(target = method,args=(... ,... ))\n",
    "t2 = threading.Thread(target = method,args=(... ,... ))\n",
    "\n",
    "t1.start()\n",
    "t2.start()\n",
    "\n",
    "t1.join()\n",
    "t2.join()"
   ]
  },
  {
   "cell_type": "markdown",
   "metadata": {},
   "source": [
    "##### Ex 1 - Without multithreading"
   ]
  },
  {
   "cell_type": "code",
   "execution_count": 21,
   "metadata": {},
   "outputs": [
    {
     "name": "stdout",
     "output_type": "stream",
     "text": [
      "Squares\n",
      "1\n",
      "4\n",
      "9\n",
      "Cubes\n",
      "1\n",
      "8\n",
      "27\n",
      "Took time without Threading:1.205068826675415\n"
     ]
    }
   ],
   "source": [
    "import time\n",
    "\n",
    "def cal_square(l):\n",
    "    print(\"Squares\")\n",
    "    for i in l:\n",
    "        time.sleep(0.2)\n",
    "        print(i*i)\n",
    "        \n",
    "def cal_cube(l):\n",
    "    print(\"Cubes\")\n",
    "    for i in l:\n",
    "        time.sleep(0.2)\n",
    "        print(i*i*i)\n",
    "        \n",
    "t = time.time() \n",
    "cal_square([1,2,3])\n",
    "cal_cube([1,2,3])\n",
    "\n",
    "withoutThreading = time.time()-t\n",
    "\n",
    "print(\"Took time without Threading:\"+str(withoutThreading))\n",
    "    "
   ]
  },
  {
   "cell_type": "markdown",
   "metadata": {},
   "source": [
    "##### Ex 2 - Utilising the idle time using multhreading"
   ]
  },
  {
   "cell_type": "code",
   "execution_count": 22,
   "metadata": {},
   "outputs": [
    {
     "name": "stdout",
     "output_type": "stream",
     "text": [
      "Squares\n",
      "Cubes\n",
      "Square 1:1\n",
      "Cube 1:1\n",
      "Square 2:4\n",
      "Cube 2:8\n",
      "Square 3:9\n",
      "Cube 3:27\n",
      "Took time with Threading:0.6580376625061035\n",
      "Time Saved by using Threading:0.5470311641693115\n"
     ]
    }
   ],
   "source": [
    "import time\n",
    "import threading\n",
    "\n",
    "def cal_square(l):\n",
    "    print(\"Squares\")\n",
    "    for i in l:\n",
    "        time.sleep(0.2)\n",
    "        print(\"Square \" + str(i) + \":\" + str(i*i))\n",
    "        \n",
    "def cal_cube(l):\n",
    "    print(\"Cubes\")\n",
    "    for i in l:\n",
    "        time.sleep(0.2)\n",
    "        print(\"Cube \" + str(i) + \":\" + str(i*i*i))\n",
    "        \n",
    "t = time.time() \n",
    "\n",
    "#targets are analogous to threads\n",
    "t1 = threading.Thread(target = cal_square, args=([1,2,3],))\n",
    "t2 = threading.Thread(target = cal_cube, args=([1,2,3],))\n",
    "\n",
    "t1.start()\n",
    "t2.start()\n",
    "\n",
    "#Waiting till t1 is done\n",
    "t1.join()\n",
    "#Wating till t2 is done\n",
    "t2.join()\n",
    "\n",
    "withThreading = time.time()-t\n",
    "\n",
    "print(\"Took time with Threading:\"+str(withThreading))\n",
    "\n",
    "\n",
    "timesaved = withoutThreading - withThreading\n",
    "print(\"Time Saved by using Threading:\"+str(timesaved))"
   ]
  },
  {
   "cell_type": "markdown",
   "metadata": {},
   "source": [
    "## Global Interpreter Lock - a mutex\n",
    "---\n",
    "---\n",
    "\n",
    "Used for syncronisation of threads\n",
    "\n",
    "Only 1 thread execute at a time (therefore provides Mutual Execution)\n",
    "\n",
    "Reason - Increasing the speed of execution of single thread\n",
    "\n",
    "Running thread holds the GIL, in I/O operation it releases it.\n",
    "\n",
    "--------------------------------------------------------------------------------------------------\n",
    "\n",
    "   #### Benifits of using  a GIL - Most of the libraries are written in C, therefore they are not threadsafe, therefore some mechanism should be there to provide Mutal Exclusion\n",
    "   \n",
    "   \n",
    "   #### Alternatives to GIL - Other interpreter implementations like Cython,PyPy,Jython etc\n",
    "   \n",
    "-------------------------------------------------------------------------------"
   ]
  },
  {
   "cell_type": "markdown",
   "metadata": {},
   "source": [
    "## Multiprocessing\n",
    "---\n",
    "---\n",
    "\n",
    "The multiprocessing library uses separate memory space, multiple CPU cores, bypasses GIL limitations in CPython, child processes are killable(ex. function calls in program) and is much easier to use.\n",
    "\n",
    "---\n",
    "\n",
    "#### 1.larger memory footprint\n",
    "#### 2.IPC’s a little more complicated with more overhead.\n",
    "\n",
    "---\n"
   ]
  },
  {
   "cell_type": "code",
   "execution_count": 27,
   "metadata": {},
   "outputs": [
    {
     "name": "stdout",
     "output_type": "stream",
     "text": [
      "Took time with Processing:0.2020113468170166\n",
      "Time Saved by using Processing over Threading:0.4560263156890869\n"
     ]
    }
   ],
   "source": [
    "import multiprocessing\n",
    "import time\n",
    "\n",
    "def cal_square(l):\n",
    "    print(\"Squares\")\n",
    "    for i in l:\n",
    "        time.sleep(5)\n",
    "        print(\"Square \" + str(i) + \":\" + str(i*i))\n",
    "        \n",
    "def cal_cube(l):\n",
    "    print(\"Cubes\")\n",
    "    for i in l:\n",
    "        time.sleep(5)\n",
    "        print(\"Cube \" + str(i) + \":\" + str(i*i*i))\n",
    "        \n",
    "t = time.time() \n",
    "\n",
    "#targets are analogous to process\n",
    "p1 = multiprocessing.Process(target = cal_square, args=([1,2,3],))\n",
    "p2 = multiprocessing.Process(target = cal_cube, args=([1,2,3],))\n",
    "\n",
    "p1.start()\n",
    "p2.start()\n",
    " \n",
    "#Waiting till t1 is done\n",
    "p1.join()\n",
    "#Wating till t2 is done\n",
    "p2.join()\n",
    "\n",
    "withProcessing = time.time()-t\n",
    "\n",
    "print(\"Took time with Processing:\"+str(withProcessing))\n",
    "\n",
    "\n",
    "timesaved = withThreading - withProcessing\n",
    "print(\"Time Saved by using Processing over Threading:\"+str(timesaved))"
   ]
  },
  {
   "cell_type": "code",
   "execution_count": null,
   "metadata": {},
   "outputs": [],
   "source": []
  }
 ],
 "metadata": {
  "kernelspec": {
   "display_name": "Python 3",
   "language": "python",
   "name": "python3"
  },
  "language_info": {
   "codemirror_mode": {
    "name": "ipython",
    "version": 3
   },
   "file_extension": ".py",
   "mimetype": "text/x-python",
   "name": "python",
   "nbconvert_exporter": "python",
   "pygments_lexer": "ipython3",
   "version": "3.6.5"
  }
 },
 "nbformat": 4,
 "nbformat_minor": 2
}
