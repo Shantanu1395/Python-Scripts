{
 "cells": [
  {
   "cell_type": "markdown",
   "metadata": {},
   "source": [
    "## lambda input(0 or more):output expr "
   ]
  },
  {
   "cell_type": "markdown",
   "metadata": {},
   "source": [
    "Anonymous functions that  return lambda function"
   ]
  },
  {
   "cell_type": "markdown",
   "metadata": {},
   "source": [
    "##### Ex 1"
   ]
  },
  {
   "cell_type": "markdown",
   "metadata": {},
   "source": [
    "def double(x):\n",
    "\n",
    "    return x*2\n",
    "    \n",
    "def double(x) => x*2\n",
    "\n",
    "def double = lambda x:x*2"
   ]
  },
  {
   "cell_type": "code",
   "execution_count": 53,
   "metadata": {},
   "outputs": [
    {
     "name": "stdout",
     "output_type": "stream",
     "text": [
      "4\n",
      "4\n"
     ]
    }
   ],
   "source": [
    "def double(x):\n",
    "    return x*2\n",
    "print(double(2))\n",
    "\n",
    "double = lambda x:x*2\n",
    "print(double(2))"
   ]
  },
  {
   "cell_type": "markdown",
   "metadata": {},
   "source": [
    "##### Ex 2"
   ]
  },
  {
   "cell_type": "code",
   "execution_count": 7,
   "metadata": {},
   "outputs": [
    {
     "data": {
      "text/plain": [
       "5"
      ]
     },
     "execution_count": 7,
     "metadata": {},
     "output_type": "execute_result"
    }
   ],
   "source": [
    "def add(x,y):\n",
    "    return x+y\n",
    "\n",
    "add = lambda x,y:x+y\n",
    "add(2,3)"
   ]
  },
  {
   "cell_type": "markdown",
   "metadata": {},
   "source": [
    "##### Ex 3"
   ]
  },
  {
   "cell_type": "code",
   "execution_count": 11,
   "metadata": {},
   "outputs": [
    {
     "data": {
      "text/plain": [
       "4"
      ]
     },
     "execution_count": 11,
     "metadata": {},
     "output_type": "execute_result"
    }
   ],
   "source": [
    "def mx(a,b):\n",
    "    if a>b:\n",
    "        return a\n",
    "    else:\n",
    "        return b\n",
    "\n",
    "mx =  lambda a,b:a if a>b else b\n",
    "mx(3,4)"
   ]
  },
  {
   "cell_type": "markdown",
   "metadata": {},
   "source": [
    "##### Ex 4 (Sorting based on last character)"
   ]
  },
  {
   "cell_type": "code",
   "execution_count": 48,
   "metadata": {},
   "outputs": [
    {
     "data": {
      "text/plain": [
       "['banana', 'guava', 'apple', 'mango']"
      ]
     },
     "execution_count": 48,
     "metadata": {},
     "output_type": "execute_result"
    }
   ],
   "source": [
    "l=[\"banana\",\"guava\",\"mango\",\"apple\"]\n",
    "l.sort(key=lambda fruit:fruit[-1])\n",
    "l"
   ]
  },
  {
   "cell_type": "markdown",
   "metadata": {},
   "source": [
    "##### Ex 5 (Building Quadratic equations)"
   ]
  },
  {
   "cell_type": "code",
   "execution_count": 50,
   "metadata": {},
   "outputs": [
    {
     "data": {
      "text/plain": [
       "11"
      ]
     },
     "execution_count": 50,
     "metadata": {},
     "output_type": "execute_result"
    }
   ],
   "source": [
    "a,b,c=1,2,3\n",
    "equation = lambda x:a*(x**2)+b*x+c\n",
    "equation(2)"
   ]
  },
  {
   "cell_type": "markdown",
   "metadata": {},
   "source": [
    "## map(func,list/iterable) \n",
    "---\n",
    "##### 1.Returns < map object \\>\n",
    "\n",
    "##### 2.Should be converted to list\n",
    "---\n",
    "Map equivalent"
   ]
  },
  {
   "cell_type": "code",
   "execution_count": null,
   "metadata": {},
   "outputs": [],
   "source": [
    "def map(func, iterable):\n",
    "    for i in iterable:\n",
    "        yield func(i)"
   ]
  },
  {
   "cell_type": "markdown",
   "metadata": {},
   "source": [
    "##### Ex1"
   ]
  },
  {
   "cell_type": "code",
   "execution_count": 23,
   "metadata": {},
   "outputs": [
    {
     "name": "stdout",
     "output_type": "stream",
     "text": [
      "[1, 4, 9]\n",
      "[1, 4, 9]\n"
     ]
    }
   ],
   "source": [
    "def square(l):\n",
    "    temp=[]\n",
    "    for i in l:\n",
    "        temp.append(i*i)\n",
    "    return temp\n",
    "print(square([1,2,3]))\n",
    "\n",
    "square = list(map(lambda x:x**2,[1,2,3]))\n",
    "print(square)\n"
   ]
  },
  {
   "cell_type": "markdown",
   "metadata": {},
   "source": [
    "##### Alternative to Ex 1 - "
   ]
  },
  {
   "cell_type": "code",
   "execution_count": 51,
   "metadata": {},
   "outputs": [
    {
     "data": {
      "text/plain": [
       "[1, 4, 9]"
      ]
     },
     "execution_count": 51,
     "metadata": {},
     "output_type": "execute_result"
    }
   ],
   "source": [
    "[x**2 for x in [1,2,3]]"
   ]
  },
  {
   "cell_type": "markdown",
   "metadata": {},
   "source": [
    "## filter(condition function,list/iterable)  - Returns < filter object \\>\n",
    "\n",
    "should be converted to list"
   ]
  },
  {
   "cell_type": "markdown",
   "metadata": {},
   "source": [
    "##### Ex 1"
   ]
  },
  {
   "cell_type": "code",
   "execution_count": 41,
   "metadata": {},
   "outputs": [
    {
     "name": "stdout",
     "output_type": "stream",
     "text": [
      "[2, 4]\n"
     ]
    },
    {
     "data": {
      "text/plain": [
       "[2, 4]"
      ]
     },
     "execution_count": 41,
     "metadata": {},
     "output_type": "execute_result"
    }
   ],
   "source": [
    "def filterEven(l):\n",
    "    temp = []\n",
    "    for i in l:\n",
    "        if i%2==0:\n",
    "            temp.append(i)\n",
    "    return temp  \n",
    "\n",
    "print(filterEven([2,4]))\n",
    "\n",
    "list(filter(lambda x:x%2==0,[2,4]))"
   ]
  },
  {
   "cell_type": "markdown",
   "metadata": {},
   "source": [
    "## reduce(function,list) - Return single element\n",
    "Apply result of 1st & 2nd then prior result to 3rd and goes on... "
   ]
  },
  {
   "cell_type": "code",
   "execution_count": 45,
   "metadata": {},
   "outputs": [
    {
     "name": "stdout",
     "output_type": "stream",
     "text": [
      "6\n",
      "6\n"
     ]
    }
   ],
   "source": [
    "from functools import reduce\n",
    "\n",
    "def addnum(l):\n",
    "    s=0\n",
    "    for i in l:\n",
    "        s+=i\n",
    "    return s\n",
    "print(addnum([1,2,3]))\n",
    "\n",
    "print(reduce(lambda x,y:x+y,[1,2,3]))"
   ]
  },
  {
   "cell_type": "code",
   "execution_count": null,
   "metadata": {},
   "outputs": [],
   "source": []
  }
 ],
 "metadata": {
  "kernelspec": {
   "display_name": "Python 3",
   "language": "python",
   "name": "python3"
  },
  "language_info": {
   "codemirror_mode": {
    "name": "ipython",
    "version": 3
   },
   "file_extension": ".py",
   "mimetype": "text/x-python",
   "name": "python",
   "nbconvert_exporter": "python",
   "pygments_lexer": "ipython3",
   "version": "3.6.5"
  }
 },
 "nbformat": 4,
 "nbformat_minor": 2
}
