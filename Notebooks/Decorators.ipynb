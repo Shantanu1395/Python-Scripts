{
 "cells": [
  {
   "cell_type": "markdown",
   "metadata": {},
   "source": [
    "### Decorators - Django usecase login\n",
    "#### Changes/Add the behaviour to a function"
   ]
  },
  {
   "cell_type": "markdown",
   "metadata": {},
   "source": [
    "##### Ex 1 - Nested functions"
   ]
  },
  {
   "cell_type": "code",
   "execution_count": 25,
   "metadata": {},
   "outputs": [
    {
     "name": "stdout",
     "output_type": "stream",
     "text": [
      "Number is : Hello World\n"
     ]
    }
   ],
   "source": [
    "def first():\n",
    "    x = \"Hello World\" #Does x goes out of scope - No, it's closure\n",
    "    \n",
    "    def second():\n",
    "        print(\"Number is : \"+x)\n",
    "        \n",
    "    return second\n",
    "    \n",
    "func = first()\n",
    "func()"
   ]
  },
  {
   "cell_type": "markdown",
   "metadata": {},
   "source": [
    "##### Ex 2 - Nested function as a way to express decorators"
   ]
  },
  {
   "cell_type": "markdown",
   "metadata": {},
   "source": [
    "def first(oldFunc):\n",
    "\n",
    "    def second():\n",
    "    \n",
    "        result = oldFunc()\n",
    "        \n",
    "        return result + 1\n",
    "        \n",
    "    return second\n",
    "    \n",
    "func = first(somefunc) # Adds onto old function\n",
    "\n",
    "trueResult=func()"
   ]
  },
  {
   "cell_type": "markdown",
   "metadata": {},
   "source": [
    "##### Ex 3 - Real Code"
   ]
  },
  {
   "cell_type": "code",
   "execution_count": 31,
   "metadata": {},
   "outputs": [
    {
     "name": "stdout",
     "output_type": "stream",
     "text": [
      "[]\n",
      "File does not exists\n"
     ]
    }
   ],
   "source": [
    "import os\n",
    "\n",
    "def Exists(oldFunc):\n",
    "    def inside(filename):\n",
    "        if (os.path.exists(filename)):\n",
    "            oldFunc(filename)\n",
    "        else:\n",
    "            print(\"File does not exists\")\n",
    "    return inside \n",
    "\n",
    "#Enhanced functionality\n",
    "@Exists\n",
    "#Normal functionality\n",
    "def outputLine(inFile):\n",
    "    with open(inFile) as f:\n",
    "        print(f.readlines())\n",
    "\n",
    "#func = Exists(outputLine)\n",
    "outputLine(\"test.py\")\n",
    "outputLine(\"test2.py\")"
   ]
  },
  {
   "cell_type": "markdown",
   "metadata": {},
   "source": [
    "##### Ex 4"
   ]
  },
  {
   "cell_type": "code",
   "execution_count": 9,
   "metadata": {},
   "outputs": [
    {
     "name": "stdout",
     "output_type": "stream",
     "text": [
      "Params: (2, 3) {}\n",
      "6\n"
     ]
    }
   ],
   "source": [
    "def Params(oldFunc):\n",
    "    def inside(*args,**kwargs):\n",
    "        print(\"Params:\",args,kwargs)\n",
    "        return oldFunc(*args,**kwargs)\n",
    "    return inside\n",
    "\n",
    "@Params\n",
    "def Mult(x,y=10):\n",
    "    print(x*y)\n",
    "\n",
    "Mult(2,3)    "
   ]
  },
  {
   "cell_type": "markdown",
   "metadata": {},
   "source": [
    "##### Ex 5 - Adding HTML tags"
   ]
  },
  {
   "cell_type": "code",
   "execution_count": 11,
   "metadata": {},
   "outputs": [
    {
     "name": "stdout",
     "output_type": "stream",
     "text": [
      "<p><i><b>Welcome Site to Site</b></i></p>\n"
     ]
    }
   ],
   "source": [
    "def AddTags(*tags):\n",
    "    def decorator(oldFunc):\n",
    "        def inside(*args,**kwargs):\n",
    "            code = oldFunc(*args,**kwargs)\n",
    "            for tag in reversed(tags):\n",
    "                code = \"<{0}>{1}</{0}>\".format(tag,code)\n",
    "            return code\n",
    "        return inside\n",
    "    return decorator\n",
    "    \n",
    "@AddTags(\"p\",\"i\",\"b\")    \n",
    "def WebPage(name):    \n",
    "    return \"Welcome \"+name+\" to Site\"\n",
    "\n",
    "print(WebPage(\"Site\"))"
   ]
  },
  {
   "cell_type": "markdown",
   "metadata": {},
   "source": [
    "##### Ex 6"
   ]
  },
  {
   "cell_type": "code",
   "execution_count": 52,
   "metadata": {},
   "outputs": [
    {
     "name": "stdout",
     "output_type": "stream",
     "text": [
      "35\n"
     ]
    }
   ],
   "source": [
    "def EnhancedAdd(func):\n",
    "    def inside(*args,**kwargs):\n",
    "        flag=True\n",
    "        sum=0\n",
    "        \n",
    "        for i in args:\n",
    "            if i < 10:\n",
    "                flag=False\n",
    "        if flag==True:\n",
    "            func(*args,**kwargs)\n",
    "    return inside\n",
    "\n",
    "@EnhancedAdd\n",
    "def addNumbers(a,b):\n",
    "    print(a+b)\n",
    "\n",
    "addNumbers(12,23)"
   ]
  },
  {
   "cell_type": "code",
   "execution_count": 53,
   "metadata": {},
   "outputs": [
    {
     "data": {
      "text/plain": [
       "35"
      ]
     },
     "execution_count": 53,
     "metadata": {},
     "output_type": "execute_result"
    }
   ],
   "source": [
    "def EnhancedAdd(func):\n",
    "    def inside(*args,**kwargs):\n",
    "        flag=True\n",
    "        sum=0\n",
    "        temp = 0\n",
    "        for i in args:\n",
    "            if i < 10:\n",
    "                flag=False\n",
    "        if flag==True:\n",
    "            temp = func(*args,**kwargs)\n",
    "        return temp    \n",
    "    return inside\n",
    "\n",
    "@EnhancedAdd\n",
    "def addNumbers(a,b):\n",
    "    return (a+b)\n",
    "\n",
    "addNumbers(12,23)"
   ]
  },
  {
   "cell_type": "markdown",
   "metadata": {},
   "source": [
    "##### Ex 7 - Class Decorators - __call__ used instead of nested function\n",
    "\n",
    "##### \\_\\_call\\_\\_ will be overrided for class decorators"
   ]
  },
  {
   "cell_type": "code",
   "execution_count": 54,
   "metadata": {},
   "outputs": [
    {
     "name": "stdout",
     "output_type": "stream",
     "text": [
      "35\n"
     ]
    }
   ],
   "source": [
    "class EnhancedAdd(object):\n",
    "    def __init__(self,originalfunc):\n",
    "        self.originalfunc = originalfunc\n",
    "        \n",
    "    def __call__(self,*args,**kwargs): \n",
    "        flag=True\n",
    "        sum=0\n",
    "        for i in args:\n",
    "            if i < 10:\n",
    "                flag=False\n",
    "        if flag==True:\n",
    "            self.originalfunc(*args,**kwargs)\n",
    "\n",
    "@EnhancedAdd\n",
    "def addNumbers(a,b):\n",
    "    print(a+b)\n",
    "\n",
    "addNumbers(12,23)"
   ]
  },
  {
   "cell_type": "code",
   "execution_count": null,
   "metadata": {},
   "outputs": [],
   "source": []
  }
 ],
 "metadata": {
  "kernelspec": {
   "display_name": "Python 3",
   "language": "python",
   "name": "python3"
  },
  "language_info": {
   "codemirror_mode": {
    "name": "ipython",
    "version": 3
   },
   "file_extension": ".py",
   "mimetype": "text/x-python",
   "name": "python",
   "nbconvert_exporter": "python",
   "pygments_lexer": "ipython3",
   "version": "3.6.5"
  }
 },
 "nbformat": 4,
 "nbformat_minor": 2
}
