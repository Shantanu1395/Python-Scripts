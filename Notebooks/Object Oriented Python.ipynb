{
 "cells": [
  {
   "cell_type": "markdown",
   "metadata": {},
   "source": [
    "## Object Oriented Python\n",
    "---"
   ]
  },
  {
   "cell_type": "markdown",
   "metadata": {},
   "source": [
    "#### Creating a class"
   ]
  },
  {
   "cell_type": "code",
   "execution_count": 80,
   "metadata": {},
   "outputs": [
    {
     "name": "stdout",
     "output_type": "stream",
     "text": [
      "Callable:False\n",
      "\n",
      "Saini Shantanu\n",
      "Saini Shantanu\n",
      "\n"
     ]
    }
   ],
   "source": [
    "class Employee:\n",
    "       \n",
    "    num_of_employees = 0    \n",
    "    raise_amount = 1.5    \n",
    "\n",
    "    #Constructor\n",
    "    def __init__(self, fname, lname, pay):\n",
    "        self.fname = fname\n",
    "        self.lname = lname\n",
    "        self.pay = pay\n",
    "        Employee.num_of_employees += 1\n",
    "    \n",
    "    @property\n",
    "    def email(self):\n",
    "        return self.email = fname + \".\" + lname + '@company.com'\n",
    "    \n",
    "    #Instance method\n",
    "    def fullname(self):\n",
    "        return '{1} {0}'.format(self.fname, self.lname)\n",
    "    \n",
    "    #Accessing class variable\n",
    "    def apply_raise(self):\n",
    "        \n",
    "        self.pay = int(self.pay * Employee.raise_amount)\n",
    "        \n",
    "        #This will also works\n",
    "        #self.pay = int(self.pay * self.raise_amount)\n",
    "\n",
    "    @classmethod    \n",
    "    def set_raise_amount(cls, amount):     \n",
    "        raise_amount = amount\n",
    "        \n",
    "    def __add__(self,obj):\n",
    "        return self.pay+obj.pay        \n",
    "        \n",
    "emp_1 = Employee(\"Shantanu\", \"Saini\", 1000)\n",
    "emp_2 = Employee(\"Sarthak\", \"Sharma\", 1200)\n",
    "\n",
    "\n",
    "#Classes are not callable\n",
    "print(\"Callable:\"+str(callable(emp_1)))\n",
    "print()\n",
    "\n",
    "#Equivalent code\n",
    "print(emp_1.fullname())\n",
    "print(Employee.fullname(emp_1))\n",
    "print()\n"
   ]
  },
  {
   "cell_type": "markdown",
   "metadata": {},
   "source": [
    "#### class variable"
   ]
  },
  {
   "cell_type": "code",
   "execution_count": 41,
   "metadata": {},
   "outputs": [
    {
     "name": "stdout",
     "output_type": "stream",
     "text": [
      "1500\n",
      "2250\n",
      "\n",
      "1.5\n",
      "1.5\n",
      "1.5\n",
      "\n",
      "Object:{'fname': 'Shantanu', 'lname': 'Saini', 'pay': 2250, 'email': 'Shantanu.Saini@company.com'}\n",
      "Class:{'__module__': '__main__', 'num_of_employees': 2, 'raise_amount': 1.5, '__init__': <function Employee.__init__ at 0x0000000004CFD6A8>, 'fullname': <function Employee.fullname at 0x0000000004CFD620>, 'apply_raise': <function Employee.apply_raise at 0x0000000004CFD840>, '__dict__': <attribute '__dict__' of 'Employee' objects>, '__weakref__': <attribute '__weakref__' of 'Employee' objects>, '__doc__': None}\n",
      "Employees : 2\n"
     ]
    }
   ],
   "source": [
    "#Calling the class method\n",
    "print(emp_1.pay)\n",
    "emp_1.apply_raise()\n",
    "print(emp_1.pay)\n",
    "print()\n",
    "\n",
    "#All will be same\n",
    "print(emp_1.raise_amount)\n",
    "print(emp_2.raise_amount)\n",
    "print(Employee.raise_amount)\n",
    "print()\n",
    "\n",
    "#Checking variables with object and class\n",
    "print(\"Object:\"+str(emp_1.__dict__))\n",
    "print(\"Class:\"+str(Employee.__dict__))\n",
    "\n",
    "#printing number of employees\n",
    "print(\"Employees : \"+str(Employee.num_of_employees))"
   ]
  },
  {
   "cell_type": "markdown",
   "metadata": {},
   "source": [
    "##### Case of updating class varible using object - It'll create instance variable of that class variable for that class"
   ]
  },
  {
   "cell_type": "code",
   "execution_count": 36,
   "metadata": {},
   "outputs": [
    {
     "name": "stdout",
     "output_type": "stream",
     "text": [
      "{'fname': 'Shantanu', 'lname': 'Saini', 'pay': 2250, 'email': 'Shantanu.Saini@company.com', 'raise_amount': 1.04}\n"
     ]
    }
   ],
   "source": [
    "emp_1.raise_amount = 1.04\n",
    "print(emp_1.__dict__)"
   ]
  },
  {
   "cell_type": "markdown",
   "metadata": {},
   "source": [
    "### Class method as an alternate constructor\n",
    "\n",
    "#### class / static method can be called from both instance & class variable"
   ]
  },
  {
   "cell_type": "code",
   "execution_count": 54,
   "metadata": {},
   "outputs": [
    {
     "name": "stdout",
     "output_type": "stream",
     "text": [
      "2 days  in the month\n",
      "Apple\n",
      "True True\n"
     ]
    }
   ],
   "source": [
    "class Date:\n",
    "\n",
    "    calender = \"Apple\"\n",
    "    \n",
    "    def __init__(self, day=0, month=0, year=0):\n",
    "        self.day = day\n",
    "        self.month = month\n",
    "        self.year = year\n",
    "    \n",
    "    #Here we have access to the class variables\n",
    "    @classmethod\n",
    "    def from_string2(cls, date_as_string):\n",
    "        day, month, year = map(int, date_as_string.split('-'))\n",
    "        print(cls.calender)\n",
    "        date1 = cls(day, month, year)\n",
    "        return date1\n",
    "    \n",
    "    #Only a function inside a class, don't have reference to object on which it is called upon\n",
    "    @staticmethod\n",
    "    def from_string1(date_as_string):\n",
    "        #print(calender)\n",
    "        day, month, year = map(int, date_as_string.split('-'))\n",
    "        return Date(day,month,year)\n",
    "    \n",
    "    def __str__(self):\n",
    "        return str(self.day)+\" days  in the month\"\n",
    "    \n",
    "\n",
    "        \n",
    "date1 = Date(2,2,2018)    \n",
    "print(date1)\n",
    "date2 = Date.from_string1(\"11-09-2012\")\n",
    "date3 = Date.from_string2(\"11-09-2012\")\n",
    "print(isinstance(date2,Date),isinstance(date3,Date))\n",
    "\n"
   ]
  },
  {
   "cell_type": "markdown",
   "metadata": {},
   "source": [
    "### Subclasses"
   ]
  },
  {
   "cell_type": "code",
   "execution_count": 71,
   "metadata": {},
   "outputs": [
    {
     "name": "stdout",
     "output_type": "stream",
     "text": [
      "Parkhi\n",
      "True\n"
     ]
    }
   ],
   "source": [
    "class Developer(Employee):\n",
    "    \n",
    "    def __init__(self, fname, lname, pay, prog_lang):\n",
    "        super().__init__(fname, lname, pay)\n",
    "        Employee.__init__(self, fname, lname, pay)\n",
    "        \n",
    "        self.prog_lang = prog_lang\n",
    "\n",
    "    # Needs to be implemented in every class\n",
    "    def __str__(self):\n",
    "        return self.fname\n",
    "\n",
    "dev_1 = Developer('Parkhi','Gupta',2500,'Python')\n",
    "print(dev_1)\n",
    "#print(dev_1.__dict__)\n",
    "\n",
    "print(issubclass(Developer,Employee))"
   ]
  },
  {
   "cell_type": "code",
   "execution_count": 65,
   "metadata": {},
   "outputs": [],
   "source": [
    "#help(Developer)"
   ]
  },
  {
   "cell_type": "markdown",
   "metadata": {},
   "source": [
    "### MagicMethods / Dunders \n",
    "Custom implementation of python's built in methods\n",
    "\n",
    "Uses - \n",
    "1.Operator overloading"
   ]
  },
  {
   "cell_type": "code",
   "execution_count": 81,
   "metadata": {},
   "outputs": [
    {
     "data": {
      "text/plain": [
       "2200"
      ]
     },
     "execution_count": 81,
     "metadata": {},
     "output_type": "execute_result"
    }
   ],
   "source": [
    "total = emp_1 + emp_2\n",
    "total"
   ]
  },
  {
   "cell_type": "markdown",
   "metadata": {},
   "source": [
    "__init__ - new \n",
    "\n",
    "__add__ - +\n",
    "\n",
    "__delete__ - del\n",
    "\n",
    "__lt__ - <\n",
    "\n",
    "And the list goes on ..."
   ]
  },
  {
   "cell_type": "markdown",
   "metadata": {},
   "source": [
    "### Property Decorators -Getters/setters and deleters"
   ]
  },
  {
   "cell_type": "code",
   "execution_count": null,
   "metadata": {},
   "outputs": [],
   "source": [
    "Usage - change dependent attributes based oter attributes\n",
    "Functions with @property have setter\n",
    "\n",
    "#Not run this\n",
    "@property\n",
    "def fullname(self,name):\n",
    "    return self.fname + \" \" + self.lname\n",
    "\n",
    "@fullname.setter\n",
    "def fullname(self,name):\n",
    "    first, last = name.split(' ')\n",
    "    self.fname = first\n",
    "    self.lname = last\n",
    "    \n",
    "emp1.fullname = 'Shantanu Saini '    "
   ]
  },
  {
   "cell_type": "markdown",
   "metadata": {},
   "source": [
    "##### Ex 1"
   ]
  },
  {
   "cell_type": "code",
   "execution_count": 85,
   "metadata": {},
   "outputs": [
    {
     "name": "stdout",
     "output_type": "stream",
     "text": [
      "Jaki\n",
      "25\n",
      "Jaki obtained 25 marks\n",
      "Anusha\n",
      "Jaki obtained 25 marks\n"
     ]
    }
   ],
   "source": [
    "class Student:\n",
    "    def __init__(self, name, marks):\n",
    "        self.name = name\n",
    "        self.marks = marks\n",
    "        self.gotmarks = self.name + ' obtained ' + self.marks + ' marks'\n",
    "\n",
    "\n",
    "st = Student(\"Jaki\", \"25\")\n",
    "\n",
    "print(st.name)\n",
    "print(st.marks)\n",
    "print(st.gotmarks)\n",
    "\n",
    "st.name = \"Anusha\"\n",
    "print(st.name)\n",
    "print(st.gotmarks)"
   ]
  },
  {
   "cell_type": "markdown",
   "metadata": {},
   "source": [
    "##### Name changed but gotmarks still have previous name\n",
    "\n",
    "##### Solution is make gotmarks a method"
   ]
  },
  {
   "cell_type": "code",
   "execution_count": 86,
   "metadata": {},
   "outputs": [
    {
     "name": "stdout",
     "output_type": "stream",
     "text": [
      "Jaki\n",
      "25\n",
      "Jaki obtained 25 marks\n",
      "Anusha\n",
      "Anusha obtained 25 marks\n"
     ]
    }
   ],
   "source": [
    "class Student:\n",
    "    def __init__(self, name, marks):\n",
    "        self.name = name\n",
    "        self.marks = marks\n",
    "        # self.gotmarks = self.name + ' obtained ' + self.marks + ' marks'\n",
    "\n",
    "    def gotmarks(self):\n",
    "        return self.name + ' obtained ' + self.marks + ' marks'\n",
    "\n",
    "\n",
    "st = Student(\"Jaki\", \"25\")\n",
    "print(st.name)\n",
    "print(st.marks)\n",
    "print(st.gotmarks())\n",
    "\n",
    "st.name = \"Anusha\"\n",
    "print(st.name)\n",
    "print(st.gotmarks())"
   ]
  },
  {
   "cell_type": "markdown",
   "metadata": {},
   "source": [
    "##### The above problem got solved but..... \n",
    "##### Now at every place <font color=red>gotmarks</font> should be replaced with <font color=red>gotmarks()</font>\n",
    "##### Therefore @property come into play"
   ]
  },
  {
   "cell_type": "code",
   "execution_count": 87,
   "metadata": {},
   "outputs": [
    {
     "name": "stdout",
     "output_type": "stream",
     "text": [
      "Jaki\n",
      "25\n",
      "Jaki obtained 25 marks\n",
      "Anusha\n",
      "Anusha obtained 25 marks\n"
     ]
    }
   ],
   "source": [
    "class Student:\n",
    "    def __init__(self, name, marks):\n",
    "        self.name = name\n",
    "        self.marks = marks\n",
    "        # self.gotmarks = self.name + ' obtained ' + self.marks + ' marks'\n",
    "    \n",
    "    @property\n",
    "    def gotmarks(self):\n",
    "        return self.name + ' obtained ' + self.marks + ' marks'\n",
    "\n",
    "\n",
    "st = Student(\"Jaki\", \"25\")\n",
    "print(st.name)\n",
    "print(st.marks)\n",
    "print(st.gotmarks)\n",
    "\n",
    "st.name = \"Anusha\"\n",
    "print(st.name)\n",
    "print(st.gotmarks)"
   ]
  },
  {
   "cell_type": "markdown",
   "metadata": {},
   "source": [
    " ##### Now each property will have asetter method"
   ]
  },
  {
   "cell_type": "code",
   "execution_count": 96,
   "metadata": {},
   "outputs": [
    {
     "name": "stdout",
     "output_type": "stream",
     "text": [
      "Jaki\n",
      "25\n",
      "Jaki obtained 25 marks\n",
      "Anusha\n",
      "Anusha obtained 25 marks\n",
      "Parkhi got 90 marks\n",
      "Deleted!!!\n",
      "Deleted got 0 marks\n"
     ]
    }
   ],
   "source": [
    " class Student:\n",
    "    def __init__(self, name, marks):\n",
    "        self.name = name\n",
    "        self.marks = marks\n",
    "        # self.gotmarks = self.name + ' obtained ' + self.marks + ' marks'\n",
    "    \n",
    "    @property\n",
    "    def gotmarks(self):\n",
    "        return self.name + ' obtained ' + self.marks + ' marks'\n",
    "\n",
    "    @gotmarks.setter\n",
    "    def gotmarks(self,sentence):\n",
    "        name, rand, marks = sentence.split(' ')\n",
    "        self.marks = marks\n",
    "        self.name = name\n",
    "        \n",
    "    #Run on deleting the property    \n",
    "    @gotmarks.deleter\n",
    "    def gotmarks(self):\n",
    "        print('Deleted!!!')\n",
    "        self.marks = 0\n",
    "        self.name = \"Deleted\"\n",
    "        \n",
    "    def __str__(self):\n",
    "        return self.name + \" got \" + str(self.marks) + \" marks\"\n",
    "\n",
    "\n",
    "st = Student(\"Jaki\", \"25\")\n",
    "print(st.name)\n",
    "print(st.marks)\n",
    "print(st.gotmarks)\n",
    "\n",
    "st.name = \"Anusha\"\n",
    "print(st.name)\n",
    "print(st.gotmarks)\n",
    "\n",
    "st.gotmarks = \"Parkhi got 90\"\n",
    "print(st)\n",
    "\n",
    "del st.gotmarks\n",
    "print(st)"
   ]
  },
  {
   "cell_type": "markdown",
   "metadata": {},
   "source": [
    "### Inheritance / Overriding\n",
    "\n"
   ]
  },
  {
   "cell_type": "code",
   "execution_count": 102,
   "metadata": {},
   "outputs": [
    {
     "name": "stdout",
     "output_type": "stream",
     "text": [
      "I am in base class\n",
      "\n",
      "I am in child class\n",
      "I am in base class\n"
     ]
    }
   ],
   "source": [
    "class Base():\n",
    "    def __init__(self):\n",
    "        self.title = \"This is a base class\"\n",
    "    \n",
    "    def method1(self):\n",
    "        print(\"I am in base class\")\n",
    "    \n",
    "class Child(Base):\n",
    "    def __init__(self):\n",
    "        super().__init__()\n",
    "    \n",
    "    def method1(self):\n",
    "        print(\"I am in child class\")\n",
    "        \n",
    "obj1 = Base()\n",
    "obj1.method1()\n",
    "print()\n",
    "\n",
    "obj1 = Child()\n",
    "obj1.method1()\n",
    "#Calling base class method\n",
    "super(Child, obj1).method1()\n"
   ]
  },
  {
   "cell_type": "markdown",
   "metadata": {},
   "source": [
    "### Multiple Inheritance and Method Resolution Order"
   ]
  },
  {
   "cell_type": "code",
   "execution_count": 105,
   "metadata": {},
   "outputs": [
    {
     "name": "stdout",
     "output_type": "stream",
     "text": [
      "Inside A\n",
      "Inside B\n",
      "Inside C\n"
     ]
    }
   ],
   "source": [
    "class A:\n",
    "    def method(self):\n",
    "        print(\"Inside A\")\n",
    "\n",
    "class B:\n",
    "    def method(self):\n",
    "        print(\"Inside B\")        \n",
    "        \n",
    "        \n",
    "class C(A,B):\n",
    "    pass\n",
    "\n",
    "class D(B,A):\n",
    "    pass\n",
    "\n",
    "class E(A,B):\n",
    "    def method(self):\n",
    "        print(\"Inside C\")\n",
    "#First it'll check in class A then class B for method\n",
    "obj = C()\n",
    "obj.method()\n",
    "\n",
    "obj = D()\n",
    "obj.method()\n",
    "\n",
    "obj = E()\n",
    "obj.method()"
   ]
  },
  {
   "cell_type": "markdown",
   "metadata": {},
   "source": [
    "### Diamond of death\n",
    "---\n",
    "#### If D overrides the function present in both B and A , then there might be ambiguity and it will not know which method to call A or B.\n",
    "            A\n",
    "           / \\\n",
    "          B   C\n",
    "           \\ /\n",
    "            D"
   ]
  },
  {
   "cell_type": "code",
   "execution_count": 5,
   "metadata": {},
   "outputs": [
    {
     "name": "stdout",
     "output_type": "stream",
     "text": [
      "In C\n",
      "In C\n"
     ]
    }
   ],
   "source": [
    "# MRO(Method Resolution Order) and super will come into play\n",
    "class A:\n",
    "    def method(self):\n",
    "        print(\"In A\")\n",
    "\n",
    "class B(A):\n",
    "    def method(self):\n",
    "        print(\"In B\")\n",
    "        \n",
    "class C(A):\n",
    "    def method(self):\n",
    "        print(\"In C\")\n",
    "\n",
    "class D(C,B):\n",
    "    pass\n",
    "        \n",
    "obj = D()\n",
    "obj.method()\n",
    "super(D,obj).method()"
   ]
  },
  {
   "cell_type": "code",
   "execution_count": 107,
   "metadata": {},
   "outputs": [
    {
     "name": "stdout",
     "output_type": "stream",
     "text": [
      "In D\n",
      "In B\n",
      "In C\n",
      "In A\n"
     ]
    }
   ],
   "source": [
    "class A:\n",
    "    def method(self):\n",
    "        print(\"In A\")\n",
    "\n",
    "class B(A):\n",
    "    def method(self):\n",
    "        print(\"In B\")\n",
    "        \n",
    "class C(A):\n",
    "    def method(self):\n",
    "        print(\"In C\")\n",
    "\n",
    "class D(B,C):\n",
    "    def method(self):\n",
    "        print(\"In D\")\n",
    "        B.method(self)\n",
    "        C.method(self)\n",
    "        A.method(self)\n",
    "        \n",
    "obj = D()\n",
    "obj.method()"
   ]
  },
  {
   "cell_type": "code",
   "execution_count": 109,
   "metadata": {},
   "outputs": [
    {
     "name": "stdout",
     "output_type": "stream",
     "text": [
      "In D\n",
      "In B\n",
      "In C\n",
      "In A\n",
      "After\n"
     ]
    }
   ],
   "source": [
    "class A:\n",
    "    def method(self):\n",
    "        print(\"In A\")\n",
    "\n",
    "class B(A):\n",
    "    def method(self):\n",
    "        print(\"In B\")\n",
    "        super().method()\n",
    "        \n",
    "class C(A):\n",
    "    def method(self):\n",
    "        print(\"In C\")\n",
    "        super().method()\n",
    "        print(\"After\")\n",
    "\n",
    "class D(B,C):\n",
    "    def method(self):\n",
    "        print(\"In D\")\n",
    "        super().method()\n",
    "        \n",
    "obj = D()\n",
    "obj.method()"
   ]
  },
  {
   "cell_type": "markdown",
   "metadata": {},
   "source": [
    "### Abstract Method"
   ]
  },
  {
   "cell_type": "code",
   "execution_count": 143,
   "metadata": {},
   "outputs": [
    {
     "name": "stdout",
     "output_type": "stream",
     "text": [
      "Area:100\n"
     ]
    }
   ],
   "source": [
    "import abc \n",
    "\n",
    "class Shape(metaclass = abc.ABCMeta):\n",
    "        \n",
    "    def __init__(self):\n",
    "        self.a = 10\n",
    "    \n",
    "    #Now this has to be overrided\n",
    "    @abc.abstractmethod    \n",
    "    def area(self):\n",
    "        pass\n",
    "    \n",
    "    def volume(self):\n",
    "        pass\n",
    "    \n",
    "class Rectangle(Shape):\n",
    "    \n",
    "    def __init__(self):\n",
    "        super().__init__()\n",
    "    \n",
    "    def area(self):\n",
    "            print(\"Area:\"+str(self.a*self.a))\n",
    "    \n",
    "    \n",
    "            \n",
    "obj = Rectangle()    \n",
    "obj.area()\n",
    "obj.volume()"
   ]
  },
  {
   "cell_type": "code",
   "execution_count": null,
   "metadata": {},
   "outputs": [],
   "source": []
  }
 ],
 "metadata": {
  "kernelspec": {
   "display_name": "Python 3",
   "language": "python",
   "name": "python3"
  },
  "language_info": {
   "codemirror_mode": {
    "name": "ipython",
    "version": 3
   },
   "file_extension": ".py",
   "mimetype": "text/x-python",
   "name": "python",
   "nbconvert_exporter": "python",
   "pygments_lexer": "ipython3",
   "version": "3.6.5"
  }
 },
 "nbformat": 4,
 "nbformat_minor": 2
}
